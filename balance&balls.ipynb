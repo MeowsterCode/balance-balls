{
 "cells": [
  {
   "cell_type": "code",
   "execution_count": 28,
   "id": "d32ca169",
   "metadata": {},
   "outputs": [
    {
     "name": "stdout",
     "output_type": "stream",
     "text": [
      "[[-1 -1 -1  0  0  0  1 -1  1  1  1  0]\n",
      " [-1  0  1  1  0 -1 -1  0  1  0 -1  1]\n",
      " [-1 -1 -1  1  1  1 -1  1  0  0  0  0]]\n"
     ]
    }
   ],
   "source": [
    "import numpy as np\n",
    "import itertools\n",
    "\n",
    "def is_valid_matrix(matrix):\n",
    "    # Check if each row sums to 0\n",
    "    # 检查是否每行之和均为0\n",
    "    if not all(np.sum(matrix, axis=0) == 0):\n",
    "        return False\n",
    "    else:\n",
    "        return True\n",
    "\n",
    "def generate_matrix(times, number_of_balls):\n",
    "    elements = [-1, 0, 1]\n",
    "    # Generate all possible combinations of 3 elements from [-1, 0, 1]\n",
    "    # 生成所有[-1, 0, 1]组成的三维向量组合\n",
    "    possible_rows = [row for row in np.array(np.meshgrid(*[elements] * times)).T.reshape(-1,times)]\n",
    "    # Pair vectors whose sum is 0\n",
    "    # 把和为0的向量两两组成一对\n",
    "    pairs = []\n",
    "    for i in range(len(possible_rows)//2):\n",
    "        pairs.append([possible_rows[i], possible_rows[-i-1]])\n",
    "\n",
    "    # For each combination, enumerate every choice\n",
    "    # 对于每种组合，枚举每对中的选择\n",
    "    combinations = itertools.combinations(pairs, number_of_balls)\n",
    "    for combination in combinations:\n",
    "        # For each pair, choose one of it\n",
    "        # 对 12 对中的每对，选择其中一个 np.array\n",
    "        choices = itertools.product(*combination) \n",
    "        for choice in choices:\n",
    "            # Form a matrix using the 12 choosed vectors\n",
    "            # 将选中的 12 个 np.array 组成一个矩阵\n",
    "            matrix = np.stack(choice) \n",
    "\n",
    "            if is_valid_matrix(matrix):\n",
    "                return matrix.T\n",
    "    return \"No result\"\n",
    "\n",
    "# Generate the matrix\n",
    "# 生成矩阵\n",
    "matrix = generate_matrix(3,12)\n",
    "print(matrix)\n"
   ]
  },
  {
   "cell_type": "code",
   "execution_count": null,
   "id": "6b67fc77",
   "metadata": {},
   "outputs": [],
   "source": []
  }
 ],
 "metadata": {
  "kernelspec": {
   "display_name": "Python 3 (ipykernel)",
   "language": "python",
   "name": "python3"
  },
  "language_info": {
   "codemirror_mode": {
    "name": "ipython",
    "version": 3
   },
   "file_extension": ".py",
   "mimetype": "text/x-python",
   "name": "python",
   "nbconvert_exporter": "python",
   "pygments_lexer": "ipython3",
   "version": "3.11.5"
  }
 },
 "nbformat": 4,
 "nbformat_minor": 5
}
